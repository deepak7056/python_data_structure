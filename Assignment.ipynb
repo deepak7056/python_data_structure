{
  "nbformat": 4,
  "nbformat_minor": 0,
  "metadata": {
    "colab": {
      "provenance": []
    },
    "kernelspec": {
      "name": "python3",
      "display_name": "Python 3"
    },
    "language_info": {
      "name": "python"
    }
  },
  "cells": [
    {
      "cell_type": "code",
      "execution_count": null,
      "metadata": {
        "colab": {
          "base_uri": "https://localhost:8080/"
        },
        "id": "qLCVSZRRAo_V",
        "outputId": "7cacaad5-4006-42a8-a747-4443f80f7197"
      },
      "outputs": [
        {
          "output_type": "stream",
          "name": "stdout",
          "text": [
            "kapeed ma I\n"
          ]
        }
      ],
      "source": [
        "# Write a code to reverse a string.\n",
        "\n",
        "txt = \"I am deepak\"\n",
        "\n",
        "print(txt[::-1])"
      ]
    },
    {
      "cell_type": "code",
      "source": [
        "# Write a code to count the number of vowels in a string.\n",
        "\n",
        "txt = \"Hey, how are you\"\n",
        "txt1 = list(txt)\n",
        "count = 0;\n",
        "for i in txt1:\n",
        "  if (i == \"a\" or i == \"A\" or i == \"e\" or i == \"E\" or i == \"i\" or i == \"I\" or i == \"o\" or i == \"O\" or i == \"u\" or i == \"U\"):\n",
        "    count+=1;\n",
        "print(count, \"vowels in this string\")\n"
      ],
      "metadata": {
        "colab": {
          "base_uri": "https://localhost:8080/"
        },
        "id": "dAXVzfbFC-yu",
        "outputId": "9ad38df0-445e-4779-878d-7c9fc3bb3bc7"
      },
      "execution_count": null,
      "outputs": [
        {
          "output_type": "stream",
          "name": "stdout",
          "text": [
            "6 vowels in this string\n"
          ]
        }
      ]
    },
    {
      "cell_type": "code",
      "source": [
        "# Write a code to check if a given string is a palindrome or not.\n",
        "\n",
        "txt = \"naman\"\n",
        "temp = \"\"\n",
        "for i in txt:\n",
        "  temp = i + temp;\n",
        "if (temp == txt):\n",
        "  print(\"Pallindrome\")\n",
        "else:\n",
        "  print(\"Not pallindrome\")"
      ],
      "metadata": {
        "colab": {
          "base_uri": "https://localhost:8080/"
        },
        "id": "cS4MLe1xG7kw",
        "outputId": "a1b60525-c24d-4df7-be4d-8c8ca9d877a3"
      },
      "execution_count": null,
      "outputs": [
        {
          "output_type": "stream",
          "name": "stdout",
          "text": [
            "Pallindrome\n"
          ]
        }
      ]
    },
    {
      "cell_type": "code",
      "source": [
        "# Write a code to check if two given strings are anagrams of each other.\n",
        "\n",
        "txt1 = \"listen\"\n",
        "txt2 = \"silent\"\n",
        "x = []\n",
        "y = []\n",
        "for i in txt1:\n",
        "  x.append(i)\n",
        "  x.sort()\n",
        "for j in txt2:\n",
        "  y.append(j)\n",
        "  y.sort()\n",
        "if (x == y):\n",
        "  print(\"strings are anagram\")\n",
        "else:\n",
        "  print(\"strings aren't anagram\")"
      ],
      "metadata": {
        "colab": {
          "base_uri": "https://localhost:8080/"
        },
        "id": "bmgP2ST-JDvN",
        "outputId": "c8cd1560-da3f-4359-9be6-65db2bdcbe8d"
      },
      "execution_count": null,
      "outputs": [
        {
          "output_type": "stream",
          "name": "stdout",
          "text": [
            "strings are anagram\n"
          ]
        }
      ]
    },
    {
      "cell_type": "code",
      "source": [
        "# Write a code to find all occurrences of a given substring within another string.\n",
        "\n",
        "org_str = \"Hey sir , how are you sir\"\n",
        "sub_str = \"sir\"\n",
        "res = []\n",
        "\n",
        "for i in range(len(org_str)):\n",
        "  if org_str.startswith(sub_str,i):\n",
        "    res.append(i)\n",
        "\n",
        "print(\"The start indices of the substrings are: \",str(res))"
      ],
      "metadata": {
        "colab": {
          "base_uri": "https://localhost:8080/"
        },
        "id": "Ll8cBS_puaxu",
        "outputId": "3fd1af48-2967-4299-eb98-ec3daed808d4"
      },
      "execution_count": null,
      "outputs": [
        {
          "output_type": "stream",
          "name": "stdout",
          "text": [
            "The start indices of the substrings are:  [4, 22]\n"
          ]
        }
      ]
    },
    {
      "cell_type": "code",
      "source": [
        "# Write a code to perform basic string compression using the counts of repeated characters.\n",
        "\n",
        "org_str = \"abbbccdeeeb\"\n",
        "res = \"\"\n",
        "cnt = 1\n",
        "for i in range(1, len(org_str)):\n",
        "  if org_str[i - 1] == org_str[i]:\n",
        "    cnt += 1\n",
        "  else:\n",
        "    res = res + org_str[i - 1]\n",
        "    if cnt > 1:\n",
        "      res += str(cnt)\n",
        "      cnt = 1\n",
        "res = res + org_str[-1]\n",
        "if cnt > 1:\n",
        "  res += str(cnt)\n",
        "print(res)\n",
        "\n"
      ],
      "metadata": {
        "colab": {
          "base_uri": "https://localhost:8080/"
        },
        "id": "BxXp_Rjfua2L",
        "outputId": "2f27c32a-e8cd-4bdf-e52f-4feeae5e0481"
      },
      "execution_count": null,
      "outputs": [
        {
          "output_type": "stream",
          "name": "stdout",
          "text": [
            "ab3c2de3b\n"
          ]
        }
      ]
    },
    {
      "cell_type": "code",
      "source": [
        "# Write a code to determine if a string has all unique characters.\n",
        "\n",
        "org_str = \"abcdef\"\n",
        "x = \"\"\n",
        "\n",
        "for i in org_str:\n",
        "  if i not in x:\n",
        "    x = x + i;\n",
        "if (org_str == x):\n",
        "  print(\"True\")\n",
        "else:\n",
        "  print(\"False\")"
      ],
      "metadata": {
        "colab": {
          "base_uri": "https://localhost:8080/"
        },
        "id": "acYGwoXOua39",
        "outputId": "b3934c13-d320-47f0-812b-28d6fe605ffb"
      },
      "execution_count": null,
      "outputs": [
        {
          "output_type": "stream",
          "name": "stdout",
          "text": [
            "True\n"
          ]
        }
      ]
    },
    {
      "cell_type": "code",
      "source": [
        "# Write a code to convert a given string to uppercase or lowercase.\n",
        "\n",
        "str1 = \"HEY DEEPAK\"\n",
        "str2 = \"hey deepak\"\n",
        "res1 = str1.lower()\n",
        "res2 = str2.upper()\n",
        "print(res1,\"\\n\", res2)"
      ],
      "metadata": {
        "colab": {
          "base_uri": "https://localhost:8080/"
        },
        "id": "cbGhm0gk3gZ6",
        "outputId": "5343e7d6-2f74-4e65-9e9b-76b05c1205dd"
      },
      "execution_count": null,
      "outputs": [
        {
          "output_type": "stream",
          "name": "stdout",
          "text": [
            "hey deepak \n",
            " HEY DEEPAK\n"
          ]
        }
      ]
    },
    {
      "cell_type": "code",
      "source": [
        "# Write a code to count the number of words in a string.\n",
        "\n",
        "org_str = \"The cat chased the playful mouse\"\n",
        "res = len(org_str.split())\n",
        "\n",
        "print (\"The number of words in string are :\",str(res))"
      ],
      "metadata": {
        "colab": {
          "base_uri": "https://localhost:8080/"
        },
        "id": "NR1JKwa14yvu",
        "outputId": "505c2030-3c05-4b5e-92a9-94cea9e683f6"
      },
      "execution_count": null,
      "outputs": [
        {
          "output_type": "stream",
          "name": "stdout",
          "text": [
            "The number of words in string are : 6\n"
          ]
        }
      ]
    },
    {
      "cell_type": "code",
      "source": [
        "# Write a code to concatenate two strings without using the + operator.\n",
        "\n",
        "str1 = \"Hey\"\n",
        "str2 = \"Deepak\"\n",
        "\n",
        "print(\" \".join([str1,str2]))"
      ],
      "metadata": {
        "colab": {
          "base_uri": "https://localhost:8080/"
        },
        "id": "9oEeawn_5Vkx",
        "outputId": "ae3a703e-7e82-490b-916d-295f8c76c139"
      },
      "execution_count": null,
      "outputs": [
        {
          "output_type": "stream",
          "name": "stdout",
          "text": [
            "Hey Deepak\n"
          ]
        }
      ]
    },
    {
      "cell_type": "code",
      "source": [
        "# Write a code to remove all occurrences of a specific element from a list.\n",
        "\n",
        "org_list = [1,2,4,3,7,2]\n",
        "item = 2\n",
        "a = org_list.count(item)\n",
        "\n",
        "for i in range(a):\n",
        "  org_list.remove(item)\n",
        "print(org_list)"
      ],
      "metadata": {
        "colab": {
          "base_uri": "https://localhost:8080/"
        },
        "id": "y8h01qsC6ppk",
        "outputId": "437c01ad-1ff7-4b9a-b069-619b451d109b"
      },
      "execution_count": null,
      "outputs": [
        {
          "output_type": "stream",
          "name": "stdout",
          "text": [
            "[1, 4, 3, 7]\n"
          ]
        }
      ]
    },
    {
      "cell_type": "code",
      "source": [
        "# Implement a code to find the second largest number in a given list of integers.\n",
        "\n",
        "list1 = [10, 20, 4, 45, 99]\n",
        "new_list = set(list1)\n",
        "\n",
        "new_list.remove(max(new_list))\n",
        "print(max(new_list))\n"
      ],
      "metadata": {
        "colab": {
          "base_uri": "https://localhost:8080/"
        },
        "id": "KEPmcJeC6ptY",
        "outputId": "250cc556-a031-4fe9-96f2-243ab5276424"
      },
      "execution_count": null,
      "outputs": [
        {
          "output_type": "stream",
          "name": "stdout",
          "text": [
            "45\n"
          ]
        }
      ]
    },
    {
      "cell_type": "code",
      "source": [
        "# Create a code to count the occurrences of each element in a list and return a dictionary with elements as keys and their counts as values.\n",
        "\n",
        "my_list = [1, 1, 1, 5, 5, 3, 1, 3, 3, 1, 4, 4, 4, 2, 2, 2, 2]\n",
        "freq = {}\n",
        "for item in my_list:\n",
        "  if item in freq:\n",
        "    freq[item]+= 1\n",
        "  else:\n",
        "    freq[item] = 1\n",
        "for key, value in freq.items():\n",
        "  print(\"% d : % d\" % (key, value))\n"
      ],
      "metadata": {
        "id": "tEOBj84P6pv7",
        "colab": {
          "base_uri": "https://localhost:8080/"
        },
        "outputId": "055dd95b-c12c-4f24-c55b-5f2420b09ce8"
      },
      "execution_count": null,
      "outputs": [
        {
          "output_type": "stream",
          "name": "stdout",
          "text": [
            " 1 :  5\n",
            " 5 :  2\n",
            " 3 :  3\n",
            " 4 :  3\n",
            " 2 :  4\n"
          ]
        }
      ]
    },
    {
      "cell_type": "code",
      "source": [
        "# Write a code to reverse a list in-place without using any built-in reverse functions.\n",
        "\n",
        "num = [1,2,3,4,5,6,7,8,9]\n",
        "L = len(num)\n",
        "\n",
        "for i in range(int(L/2)):\n",
        "  n = num[i]\n",
        "  num[i] = num[L-i-1]\n",
        "  num[L-i-1] = n\n",
        "print(num)"
      ],
      "metadata": {
        "colab": {
          "base_uri": "https://localhost:8080/"
        },
        "id": "ItmS4Ucyed99",
        "outputId": "c76a2f90-373c-4bcb-ced9-305262b2fb72"
      },
      "execution_count": null,
      "outputs": [
        {
          "output_type": "stream",
          "name": "stdout",
          "text": [
            "[9, 8, 7, 6, 5, 4, 3, 2, 1]\n"
          ]
        }
      ]
    },
    {
      "cell_type": "code",
      "source": [
        "# Implement a code to find and remove duplicates from a list while preserving the original order of elements.\n",
        "\n",
        "list1 = [1,4,6,8,1,4,2,8,9,5,4,2]\n",
        "res = []\n",
        "print(\"Original list: \",list1)\n",
        "\n",
        "for i in list1:\n",
        "  if i not in res:\n",
        "    res.append(i)\n",
        "print(\"List after removing duplicate elements: \",res)"
      ],
      "metadata": {
        "colab": {
          "base_uri": "https://localhost:8080/"
        },
        "id": "3jQpQLbdeeBD",
        "outputId": "934c977b-5727-4c1c-857b-930b1f0196da"
      },
      "execution_count": null,
      "outputs": [
        {
          "output_type": "stream",
          "name": "stdout",
          "text": [
            "Original list:  [1, 4, 6, 8, 1, 4, 2, 8, 9, 5, 4, 2]\n",
            "List after removing duplicate elements:  [1, 4, 6, 8, 2, 9, 5]\n"
          ]
        }
      ]
    },
    {
      "cell_type": "code",
      "source": [
        "# Create a code to check if a given list is sorted (either in ascending or descending order) or not.\n",
        "\n",
        "list1 = [1,3,6,8,9,12]\n",
        "temp = 0\n",
        "i = 1\n",
        "\n",
        "while i < len(list1):\n",
        "  if (list1[i] < list1[i-1]):\n",
        "    temp = 1\n",
        "  i+= 1\n",
        "\n",
        "if(not temp):\n",
        "  print(\"List is sorted\")\n",
        "else:\n",
        "  print(\"List is not sorted\")"
      ],
      "metadata": {
        "colab": {
          "base_uri": "https://localhost:8080/"
        },
        "id": "M9bbfew6eeEw",
        "outputId": "d901e4f8-56bf-461a-95f5-0701a210e0bb"
      },
      "execution_count": null,
      "outputs": [
        {
          "output_type": "stream",
          "name": "stdout",
          "text": [
            "List is sorted\n"
          ]
        }
      ]
    },
    {
      "cell_type": "code",
      "source": [
        "# Write a code to merge two sorted lists into a single sorted list.\n",
        "\n",
        "list1 = [1,3,5,7,9]\n",
        "list2 = [12,34,45,67,87]\n",
        "size1 = len(list1)\n",
        "size2 = len(list2)\n",
        "res = []\n",
        "i, j = 0,0\n",
        "\n",
        "while i < size1 and j < size2:\n",
        "  if list1[i] < list2[j]:\n",
        "    res.append(list1[i])\n",
        "    i+=1\n",
        "  else:\n",
        "    res.append(list2[j])\n",
        "    j+=1\n",
        "res = res + list1[i:] + list2[j:]\n",
        "print(res)"
      ],
      "metadata": {
        "id": "nyfPAjwEeeZX",
        "colab": {
          "base_uri": "https://localhost:8080/"
        },
        "outputId": "6c31290f-a66c-4adb-c7f8-f85dd72b7a89"
      },
      "execution_count": null,
      "outputs": [
        {
          "output_type": "stream",
          "name": "stdout",
          "text": [
            "[1, 3, 5, 7, 9, 12, 34, 45, 67, 87]\n"
          ]
        }
      ]
    },
    {
      "cell_type": "code",
      "source": [
        "# Implement a code to find the intersection of two given lists.\n",
        "\n",
        "lst1 = [4, 9, 1, 17, 11, 26, 28, 54, 69]\n",
        "lst2 = [9, 9, 74, 21, 45, 11, 63, 28, 26]\n",
        "lst3 = []\n",
        "\n",
        "for i in lst1:\n",
        "  if i in lst2:\n",
        "    lst3.append(i)\n",
        "\n",
        "print(lst3)"
      ],
      "metadata": {
        "id": "uYG_g3oHeecQ",
        "colab": {
          "base_uri": "https://localhost:8080/"
        },
        "outputId": "27cbb549-4c4e-4853-c22a-c73c05cb5a4c"
      },
      "execution_count": null,
      "outputs": [
        {
          "output_type": "stream",
          "name": "stdout",
          "text": [
            "[9, 11, 26, 28]\n"
          ]
        }
      ]
    },
    {
      "cell_type": "code",
      "source": [
        "# Create a code to find the union of two lists without duplicates.\n",
        "\n",
        "\n",
        "\n",
        "list1 = [23, 45, 65, 31, 1, 89]\n",
        "list2 = [67, 89, 23, 45, 8, 90,23]\n",
        "\n",
        "set1 = set(list1)\n",
        "set2 = set(list2)\n",
        "lst = list(set1.union(set2))\n",
        "\n",
        "print(lst)"
      ],
      "metadata": {
        "id": "rOF-qe1Deefe",
        "colab": {
          "base_uri": "https://localhost:8080/"
        },
        "outputId": "5b47d850-0d44-4140-ed6b-4b2835f55f9a"
      },
      "execution_count": null,
      "outputs": [
        {
          "output_type": "stream",
          "name": "stdout",
          "text": [
            "[65, 1, 67, 8, 45, 23, 89, 90, 31]\n"
          ]
        }
      ]
    },
    {
      "cell_type": "code",
      "source": [
        "# Write a code to shuffle a given list randomly without using any built-in shuffle functions.\n",
        "\n",
        "lst = [4,7,1,9,3]\n"
      ],
      "metadata": {
        "id": "P02AwUKseeik"
      },
      "execution_count": null,
      "outputs": []
    },
    {
      "cell_type": "code",
      "source": [
        "# Write a code that takes two tuples as input and returns a new tuple containing elements that are common to both input tuples.\n",
        "\n",
        "first=int(input(\"Enter the length of first tuple: \"))\n",
        "\n",
        "f_tuple=[]\n",
        "s_tuple=[]\n",
        "for i in range(first):\n",
        "  a=int(input(\"Enter the number:\"))\n",
        "  f_tuple.append(a)\n",
        "second=int(input(\"Enter the length of first tuple: \"))\n",
        "for i in range(second):\n",
        "  a=int(input(\"Enter the number:\"))\n",
        "  s_tuple.append(a)\n",
        "lst=tuple(set(f_tuple).intersection(set(s_tuple)))\n",
        "print(lst)"
      ],
      "metadata": {
        "id": "RsFQPFBteelp",
        "colab": {
          "base_uri": "https://localhost:8080/",
          "height": 356
        },
        "outputId": "bd8fffd4-3007-4b3c-9fcb-cfa4fccfa76f"
      },
      "execution_count": null,
      "outputs": [
        {
          "output_type": "error",
          "ename": "KeyboardInterrupt",
          "evalue": "Interrupted by user",
          "traceback": [
            "\u001b[0;31m---------------------------------------------------------------------------\u001b[0m",
            "\u001b[0;31mKeyboardInterrupt\u001b[0m                         Traceback (most recent call last)",
            "\u001b[0;32m<ipython-input-1-d25a68ce453a>\u001b[0m in \u001b[0;36m<cell line: 3>\u001b[0;34m()\u001b[0m\n\u001b[1;32m      1\u001b[0m \u001b[0;31m# Write a code that takes two tuples as input and returns a new tuple containing elements that are common to both input tuples.\u001b[0m\u001b[0;34m\u001b[0m\u001b[0;34m\u001b[0m\u001b[0m\n\u001b[1;32m      2\u001b[0m \u001b[0;34m\u001b[0m\u001b[0m\n\u001b[0;32m----> 3\u001b[0;31m \u001b[0mfirst\u001b[0m\u001b[0;34m=\u001b[0m\u001b[0mint\u001b[0m\u001b[0;34m(\u001b[0m\u001b[0minput\u001b[0m\u001b[0;34m(\u001b[0m\u001b[0;34m\"Enter the length of first tuple: \"\u001b[0m\u001b[0;34m)\u001b[0m\u001b[0;34m)\u001b[0m\u001b[0;34m\u001b[0m\u001b[0;34m\u001b[0m\u001b[0m\n\u001b[0m\u001b[1;32m      4\u001b[0m \u001b[0;34m\u001b[0m\u001b[0m\n\u001b[1;32m      5\u001b[0m \u001b[0mf_tuple\u001b[0m\u001b[0;34m=\u001b[0m\u001b[0;34m[\u001b[0m\u001b[0;34m]\u001b[0m\u001b[0;34m\u001b[0m\u001b[0;34m\u001b[0m\u001b[0m\n",
            "\u001b[0;32m/usr/local/lib/python3.10/dist-packages/ipykernel/kernelbase.py\u001b[0m in \u001b[0;36mraw_input\u001b[0;34m(self, prompt)\u001b[0m\n\u001b[1;32m    849\u001b[0m                 \u001b[0;34m\"raw_input was called, but this frontend does not support input requests.\"\u001b[0m\u001b[0;34m\u001b[0m\u001b[0;34m\u001b[0m\u001b[0m\n\u001b[1;32m    850\u001b[0m             )\n\u001b[0;32m--> 851\u001b[0;31m         return self._input_request(str(prompt),\n\u001b[0m\u001b[1;32m    852\u001b[0m             \u001b[0mself\u001b[0m\u001b[0;34m.\u001b[0m\u001b[0m_parent_ident\u001b[0m\u001b[0;34m,\u001b[0m\u001b[0;34m\u001b[0m\u001b[0;34m\u001b[0m\u001b[0m\n\u001b[1;32m    853\u001b[0m             \u001b[0mself\u001b[0m\u001b[0;34m.\u001b[0m\u001b[0m_parent_header\u001b[0m\u001b[0;34m,\u001b[0m\u001b[0;34m\u001b[0m\u001b[0;34m\u001b[0m\u001b[0m\n",
            "\u001b[0;32m/usr/local/lib/python3.10/dist-packages/ipykernel/kernelbase.py\u001b[0m in \u001b[0;36m_input_request\u001b[0;34m(self, prompt, ident, parent, password)\u001b[0m\n\u001b[1;32m    893\u001b[0m             \u001b[0;32mexcept\u001b[0m \u001b[0mKeyboardInterrupt\u001b[0m\u001b[0;34m:\u001b[0m\u001b[0;34m\u001b[0m\u001b[0;34m\u001b[0m\u001b[0m\n\u001b[1;32m    894\u001b[0m                 \u001b[0;31m# re-raise KeyboardInterrupt, to truncate traceback\u001b[0m\u001b[0;34m\u001b[0m\u001b[0;34m\u001b[0m\u001b[0m\n\u001b[0;32m--> 895\u001b[0;31m                 \u001b[0;32mraise\u001b[0m \u001b[0mKeyboardInterrupt\u001b[0m\u001b[0;34m(\u001b[0m\u001b[0;34m\"Interrupted by user\"\u001b[0m\u001b[0;34m)\u001b[0m \u001b[0;32mfrom\u001b[0m \u001b[0;32mNone\u001b[0m\u001b[0;34m\u001b[0m\u001b[0;34m\u001b[0m\u001b[0m\n\u001b[0m\u001b[1;32m    896\u001b[0m             \u001b[0;32mexcept\u001b[0m \u001b[0mException\u001b[0m \u001b[0;32mas\u001b[0m \u001b[0me\u001b[0m\u001b[0;34m:\u001b[0m\u001b[0;34m\u001b[0m\u001b[0;34m\u001b[0m\u001b[0m\n\u001b[1;32m    897\u001b[0m                 \u001b[0mself\u001b[0m\u001b[0;34m.\u001b[0m\u001b[0mlog\u001b[0m\u001b[0;34m.\u001b[0m\u001b[0mwarning\u001b[0m\u001b[0;34m(\u001b[0m\u001b[0;34m\"Invalid Message:\"\u001b[0m\u001b[0;34m,\u001b[0m \u001b[0mexc_info\u001b[0m\u001b[0;34m=\u001b[0m\u001b[0;32mTrue\u001b[0m\u001b[0;34m)\u001b[0m\u001b[0;34m\u001b[0m\u001b[0;34m\u001b[0m\u001b[0m\n",
            "\u001b[0;31mKeyboardInterrupt\u001b[0m: Interrupted by user"
          ]
        }
      ]
    },
    {
      "cell_type": "code",
      "source": [
        "# Create a code that prompts the user to enter two sets of integers separated by commas. Then, print the intersection of these two sets.\n",
        "\n",
        "first = input(\"Enter any number: \")\n",
        "second = input(\"Enter any number: \")\n",
        "first = set(list(first.split(\",\")))\n",
        "second = set(list(second.split(\",\")))\n",
        "result = first.intersection(second)\n",
        "print(result)"
      ],
      "metadata": {
        "id": "BQ1fpuQLeeo9",
        "colab": {
          "base_uri": "https://localhost:8080/"
        },
        "outputId": "2e017e4e-9996-443f-d7ed-03c5465aa71f"
      },
      "execution_count": null,
      "outputs": [
        {
          "output_type": "stream",
          "name": "stdout",
          "text": [
            "Enter any number: 14,47,11,54,87\n",
            "Enter any number: 47,11,98,87,36\n",
            "{'47', '87', '11'}\n"
          ]
        }
      ]
    },
    {
      "cell_type": "code",
      "source": [
        "# Write a code to concatenate two tuples. The function should take two tuples as input and return a new tuple containing elements from both input tuples.\n",
        "\n",
        "first = input(\"Enter any number: \")\n",
        "second = input(\"Enter any number: \")\n",
        "first = tuple(list(first.split(\",\")))\n",
        "second = tuple(list(second.split(\",\")))\n",
        "result = first + second\n",
        "print(result)"
      ],
      "metadata": {
        "id": "-8X31hzlnwNn",
        "colab": {
          "base_uri": "https://localhost:8080/"
        },
        "outputId": "65d23fd1-439d-4edf-8e59-4dcc45123cae"
      },
      "execution_count": null,
      "outputs": [
        {
          "output_type": "stream",
          "name": "stdout",
          "text": [
            "Enter any number: 47,11,54,87\n",
            "Enter any number: 98,87,36\n",
            "('47', '11', '54', '87', '98', '87', '36')\n"
          ]
        }
      ]
    },
    {
      "cell_type": "code",
      "source": [
        "# Develop a code that prompts the user to input two sets of strings. Then, print the elements that are present in the first set but not in the second set.\n",
        "\n",
        "first = input(\"Enter any sentence: \")\n",
        "second = input(\"Enter any sentence: \")\n",
        "first = set(list(first.split(\" \")))\n",
        "second = set(list(second.split(\" \")))\n",
        "result = []\n",
        "for i in first:\n",
        "  if i not in second:\n",
        "    result.append(i)\n",
        "print(set(result))"
      ],
      "metadata": {
        "id": "Vi2Qiy8inwQX",
        "colab": {
          "base_uri": "https://localhost:8080/"
        },
        "outputId": "5e0cf416-eb51-45e4-b5df-bddb2a7a457a"
      },
      "execution_count": null,
      "outputs": [
        {
          "output_type": "stream",
          "name": "stdout",
          "text": [
            "Enter any sentence: ok go home not here\n",
            "Enter any sentence: not home\n",
            "{'here', 'ok', 'go'}\n"
          ]
        }
      ]
    },
    {
      "cell_type": "code",
      "source": [
        "# Create a code that takes a tuple and two integers as input. The function should return a new tuple containing elements from the original tuple within the specified range of indices.\n",
        "\n",
        "tpl = input(\"Enter the tuple: \")\n",
        "fst = int(input(\"Enter starting range: \"))\n",
        "sec = int(input(\"Enter ending range: \"))\n",
        "tpl = tuple(list(tpl.split(\",\")))\n",
        "result = []\n",
        "for i in range(fst, sec):\n",
        "  result.append(tpl[i])\n",
        "print(tuple(result))"
      ],
      "metadata": {
        "id": "DEbQuKyAnwTF",
        "colab": {
          "base_uri": "https://localhost:8080/"
        },
        "outputId": "573695dd-3da9-46c8-ff00-e781974f5a2d"
      },
      "execution_count": null,
      "outputs": [
        {
          "output_type": "stream",
          "name": "stdout",
          "text": [
            "Enter the tuple: 12,45,14,78,45,96,23,14,85,45\n",
            "Enter starting range: 2\n",
            "Enter ending range: 4\n",
            "('14', '78')\n"
          ]
        }
      ]
    },
    {
      "cell_type": "code",
      "source": [
        "# Write a code that prompts the user to input two sets of characters. Then, print the union of these two sets.\n",
        "\n",
        "first = set(input(\"Enter characters for first set: \"))\n",
        "second = set(input(\"Enter characters for second set: \"))\n",
        "\n",
        "result = first.union(second)\n",
        "print(\"Union of two sets: \", result)"
      ],
      "metadata": {
        "id": "lrHP9qsPnwV6",
        "colab": {
          "base_uri": "https://localhost:8080/"
        },
        "outputId": "26e70951-6b1e-43cd-97f1-aabf56501144"
      },
      "execution_count": null,
      "outputs": [
        {
          "output_type": "stream",
          "name": "stdout",
          "text": [
            "Enter characters for first set: abcde\n",
            "Enter characters for second set: cdefg\n",
            "Union of two sets:  {'d', 'e', 'g', 'f', 'c', 'b', 'a'}\n"
          ]
        }
      ]
    },
    {
      "cell_type": "code",
      "source": [
        "# Develop a code that takes a tuple of integers as input. The function should return the maximum and minimum values from the tuple using tuple unpacking.\n",
        "\n",
        "first = (input(\"Enter any number: \"))\n",
        "first = tuple(list(first.split(\",\")))\n",
        "print(\"Maximum number is: \",max(first))\n",
        "print(\"Minimum number is: \",min(first))"
      ],
      "metadata": {
        "id": "3g4NPdvZnwY8",
        "colab": {
          "base_uri": "https://localhost:8080/"
        },
        "outputId": "1be0c049-2611-4578-9c9c-572aebe697ce"
      },
      "execution_count": null,
      "outputs": [
        {
          "output_type": "stream",
          "name": "stdout",
          "text": [
            "Enter any number: 45,14,78,45,96,23,14,85,45\n",
            "Maximum number is:  96\n",
            "Minimum number is:  14\n"
          ]
        }
      ]
    },
    {
      "cell_type": "code",
      "source": [
        "# Create a code that defines two sets of integers. Then, print the union, intersection, and difference of these two sets.\n",
        "\n",
        "first = input(\"Enter any numbers: \")\n",
        "second = input(\"Enter any numbers: \")\n",
        "first = set(list(first.split(\",\")))\n",
        "second = set(list(second.split(\",\")))\n",
        "union_ = first.union(second)\n",
        "inter = first.intersection(second)\n",
        "diff = first.difference(second)\n",
        "print(\"Union of two sets: \",union_)\n",
        "print(\"Intersection of two sets: \",inter)\n",
        "print(\"Difference of two sets: \",diff)"
      ],
      "metadata": {
        "id": "7C0aac-Nnwbn",
        "colab": {
          "base_uri": "https://localhost:8080/"
        },
        "outputId": "4a670790-fefd-4594-a5d6-bbb1d689eb9e"
      },
      "execution_count": null,
      "outputs": [
        {
          "output_type": "stream",
          "name": "stdout",
          "text": [
            "Enter any numbers: 96,23,14,85,45\n",
            "Enter any numbers: 45,23,85,74,16\n",
            "{'45', '23', '85', '96', '14'} {'45', '23', '74', '85', '16'}\n",
            "Union of two sets:  {'45', '23', '74', '85', '96', '14', '16'}\n",
            "Intersection of two sets:  {'85', '45', '23'}\n",
            "Difference of two sets:  {'96', '14'}\n"
          ]
        }
      ]
    },
    {
      "cell_type": "code",
      "source": [
        "# Write a code that takes a tuple and an element as input. The function should return the count of occurrences of the given element in tahe tuple.\n",
        "\n",
        "first = input(\"Enter any numbers: \")\n",
        "first = [int(x.strip()) for x in first.split(\",\")]\n",
        "first=tuple(first)\n",
        "print(first)\n",
        "element = int(input(\"Enter the element to count: \"))\n",
        "result = first.count(element)\n",
        "print(\"Number of occurrences of\", element, \"in the tuple:\", result)"
      ],
      "metadata": {
        "id": "HH4l9BbPoXly",
        "colab": {
          "base_uri": "https://localhost:8080/"
        },
        "outputId": "1e840ab9-3a4a-45ff-a550-22ddaa9f0004"
      },
      "execution_count": null,
      "outputs": [
        {
          "output_type": "stream",
          "name": "stdout",
          "text": [
            "Enter any numbers: 45,23,85,74,16,45\n",
            "(45, 23, 85, 74, 16, 45)\n",
            "Enter the element to count: 45\n",
            "Number of occurrences of 45 in the tuple: 2\n"
          ]
        }
      ]
    },
    {
      "cell_type": "code",
      "source": [
        "# Develop a code that prompts the user to input two sets of strings. Then, print the symmetric difference of these two sets.\n",
        "\n",
        "first = input(\"Enter first string: \")\n",
        "second = input(\"Enter second string: \")\n",
        "first = set(first.split())\n",
        "second = set(second.split())\n",
        "result = first.symmetric_difference(second)\n",
        "print(result)"
      ],
      "metadata": {
        "id": "sXOf9Ph2nwen",
        "colab": {
          "base_uri": "https://localhost:8080/"
        },
        "outputId": "fa3d3693-5f09-44ff-854d-0c23c5dffddb"
      },
      "execution_count": null,
      "outputs": [
        {
          "output_type": "stream",
          "name": "stdout",
          "text": [
            "Enter first string: hey how are you\n",
            "Enter second string: how you whatsap ok\n",
            "{'hey', 'whatsap', 'ok', 'are'}\n"
          ]
        }
      ]
    },
    {
      "cell_type": "code",
      "source": [
        "# Write a code that takes a list of words as input and returns a dictionary where the keys are unique words and the values are the frequencies of those words in the input list.\n",
        "\n",
        "def word_freq(words):\n",
        "  freq_dict = {}\n",
        "  for word in words:\n",
        "    if word in freq_dict:\n",
        "      freq_dict[word]+=1\n",
        "    else:\n",
        "      freq_dict[word] = 1\n",
        "  return freq_dict\n",
        "\n",
        "input_words = input(\"Enter a list of words separated by spaces: \")\n",
        "input_words = input_words.split()\n",
        "word_freq_dict = word_freq(input_words)\n",
        "print(\"Word Frequency Dictionary:\", word_freq_dict)"
      ],
      "metadata": {
        "id": "nIjZRf79nwhm",
        "colab": {
          "base_uri": "https://localhost:8080/"
        },
        "outputId": "ac8cc6c1-1324-47b9-8244-b936e5afc632"
      },
      "execution_count": null,
      "outputs": [
        {
          "output_type": "stream",
          "name": "stdout",
          "text": [
            "Enter a list of words separated by spaces: apple mango apple banana apple\n",
            "Word Frequency Dictionary: {'apple': 3, 'mango': 1, 'banana': 1}\n"
          ]
        }
      ]
    },
    {
      "cell_type": "code",
      "source": [
        "d1={\"mango\":30,\"apple\":20,\"grapes\":25}\n",
        "d2={\"kiwi\":40,\"apple\":30,\"orange\":50}\n",
        "for item in d2.keys():\n",
        "    if item in d1.keys():\n",
        "        d1[item]+=d2[item]\n",
        "    else:\n",
        "        d1[item]=d2[item]\n",
        "print(\"dictionary after combining is ....\")\n",
        "for key,value in d1.items():\n",
        "    print(key,value)"
      ],
      "metadata": {
        "id": "Mjj22_hdnwl2",
        "colab": {
          "base_uri": "https://localhost:8080/"
        },
        "outputId": "5223666f-2466-4575-cb78-a7244fbd803a"
      },
      "execution_count": null,
      "outputs": [
        {
          "output_type": "stream",
          "name": "stdout",
          "text": [
            "dictionary after combining is ....\n",
            "mango 30\n",
            "apple 50\n",
            "grapes 25\n",
            "kiwi 40\n",
            "orange 50\n"
          ]
        }
      ]
    },
    {
      "cell_type": "code",
      "source": [
        "# Write a code to access a value in a nested dictionary. The function should take the dictionary and a list of keys as input, and return the corresponding value. If any of the keys do not exist in the dictionary, the function should return None.\n",
        "\n",
        "dict={\"a\":100,\"b\":200,\"c\":300}\n",
        "keys=[\"a\",\"b\",\"d\"]\n",
        "values=[]\n",
        "for key in keys:\n",
        "    if key in dict:\n",
        "        values.append(dict[key])\n",
        "    else:\n",
        "        values.append(None)\n",
        "print(values)"
      ],
      "metadata": {
        "id": "ZMOvSHfYorqR",
        "colab": {
          "base_uri": "https://localhost:8080/"
        },
        "outputId": "643d1659-2369-4993-e828-8443a8a2fc42"
      },
      "execution_count": null,
      "outputs": [
        {
          "output_type": "stream",
          "name": "stdout",
          "text": [
            "[100, 200, None]\n"
          ]
        }
      ]
    },
    {
      "cell_type": "code",
      "source": [
        "fruits={\"apple\":5,\"banana\":2,\"cherry\":8,\"date\":1}\n",
        "fruits_tuple=fruits.items()\n",
        "print(fruits_tuple)\n",
        "\n",
        "sorted(fruits_tuple,key=lambda x:x[1])"
      ],
      "metadata": {
        "id": "wIxSrKW_ortL",
        "colab": {
          "base_uri": "https://localhost:8080/"
        },
        "outputId": "ad69b842-b564-46c5-fcc3-8ba3bd78bfac"
      },
      "execution_count": null,
      "outputs": [
        {
          "output_type": "stream",
          "name": "stdout",
          "text": [
            "dict_items([('apple', 5), ('banana', 2), ('cherry', 8), ('date', 1)])\n"
          ]
        },
        {
          "output_type": "execute_result",
          "data": {
            "text/plain": [
              "[('date', 1), ('banana', 2), ('apple', 5), ('cherry', 8)]"
            ]
          },
          "metadata": {},
          "execution_count": 4
        }
      ]
    },
    {
      "cell_type": "code",
      "source": [
        "# Write a code that inverts a dictionary, swapping keys and values. Ensure that the inverted dictionary correctly handles cases where multiple keys have the same value by storing the keys as a list in the inverted dictionary.\n",
        "\n",
        "org_dict={\"apple\":30,\"banana\":20,\"orange\":50,\"grapes\":40,\"kiwi\":30}\n",
        "insert_dict={}\n",
        "for key,value in org_dict.items():\n",
        "    if value not in insert_dict:\n",
        "        insert_dict[value]=[key]\n",
        "    else:\n",
        "        insert_dict[value].append(key)\n",
        "print(\"original dictionary : \",org_dict)\n",
        "print(\"inserted dictionary : \", insert_dict)"
      ],
      "metadata": {
        "id": "nee3RJxforwa",
        "colab": {
          "base_uri": "https://localhost:8080/"
        },
        "outputId": "0f956ecc-bfaa-4168-e514-8468385a5beb"
      },
      "execution_count": null,
      "outputs": [
        {
          "output_type": "stream",
          "name": "stdout",
          "text": [
            "original dictionary :  {'apple': 30, 'banana': 20, 'orange': 50, 'grapes': 40, 'kiwi': 30}\n",
            "inserted dictionary :  {30: ['apple', 'kiwi'], 20: ['banana'], 50: ['orange'], 40: ['grapes']}\n"
          ]
        }
      ]
    }
  ]
}